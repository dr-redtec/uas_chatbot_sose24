{
 "cells": [
  {
   "cell_type": "code",
   "execution_count": null,
   "metadata": {},
   "outputs": [],
   "source": [
    "import markdown\n",
    "from bs4 import BeautifulSoup\n",
    "import os\n",
    "\n",
    "# Funktion zur Verarbeitung einer einzelnen Markdown-Datei und Konvertierung in HTML\n",
    "def read_markdown_file(filepath):\n",
    "    with open(filepath, 'r', encoding='utf-8') as file:\n",
    "        md_content = file.read()\n",
    "    return markdown.markdown(md_content)\n",
    "\n",
    "# Funktion zur Extraktion von Text aus HTML\n",
    "def extract_text_from_html(html_content):\n",
    "    soup = BeautifulSoup(html_content, 'html.parser')\n",
    "    return soup.get_text()\n",
    "\n",
    "# Funktion zur Verarbeitung aller Markdown-Dateien in einem Verzeichnis\n",
    "def process_markdown_files(directory):\n",
    "    documents = []\n",
    "    for filename in os.listdir(directory):\n",
    "        if filename.endswith(\".md\"):\n",
    "            filepath = os.path.join(directory, filename)\n",
    "            html_content = read_markdown_file(filepath)\n",
    "            text = extract_text_from_html(html_content)\n",
    "            documents.append({\"filename\": filename, \"content\": text})\n",
    "    return documents\n",
    "\n",
    "# Ihr spezifischer Ordnerpfad\n",
    "md_folder_path = os.path.join('data', 'md')\n",
    "\n",
    "# Verarbeiten Sie alle Markdown-Dateien und speichern Sie sie als Dokumente\n",
    "documents = process_markdown_files(md_folder_path)\n",
    "\n",
    "# Beispielhafte Ausgabe der Dokumentenliste\n",
    "for doc in documents:\n",
    "    print(f\"Filename: {doc['filename']}\")\n",
    "    print(f\"Content: {doc['content']}...\")  # Zeigt die ersten 100 Zeichen des Inhalts\n",
    "    print()"
   ]
  },
  {
   "cell_type": "code",
   "execution_count": 1,
   "metadata": {},
   "outputs": [
    {
     "name": "stderr",
     "output_type": "stream",
     "text": [
      "/Volumes/data1/Programming/predictiv_chatbot/predictiv_chatbot/lib/python3.12/site-packages/sentence_transformers/cross_encoder/CrossEncoder.py:11: TqdmExperimentalWarning: Using `tqdm.autonotebook.tqdm` in notebook mode. Use `tqdm.tqdm` instead to force console mode (e.g. in jupyter console)\n",
      "  from tqdm.autonotebook import tqdm, trange\n"
     ]
    }
   ],
   "source": [
    "from sentence_transformers import SentenceTransformer\n",
    "model = SentenceTransformer('intfloat/multilingual-e5-large')\n",
    "input_texts = [\n",
    "    'query: how much protein should a female eat',\n",
    "    'query: 南瓜的家常做法',\n",
    "    \"passage: As a general guideline, the CDC's average requirement of protein for women ages 19 to 70 i     s 46 grams per day. But, as you can see from this chart, you'll need to increase that if you're expecting or traini     ng for a marathon. Check out the chart below to see how much protein you should be eating each day.\",\n",
    "    \"passage: 1.清炒南瓜丝 原料:嫩南瓜半个 调料:葱、盐、白糖、鸡精 做法: 1、南瓜用刀薄薄的削去表面一层皮     ,用勺子刮去瓤 2、擦成细丝(没有擦菜板就用刀慢慢切成细丝) 3、锅烧热放油,入葱花煸出香味 4、入南瓜丝快速翻炒一分钟左右,     放盐、一点白糖和鸡精调味出锅 2.香葱炒南瓜 原料:南瓜1只 调料:香葱、蒜末、橄榄油、盐 做法: 1、将南瓜去皮,切成片 2、油     锅8成热后,将蒜末放入爆香 3、爆香后,将南瓜片放入,翻炒 4、在翻炒的同时,可以不时地往锅里加水,但不要太多 5、放入盐,炒匀      6、南瓜差不多软和绵了之后,就可以关火 7、撒入香葱,即可出锅\"\n",
    "]\n",
    "embeddings = model.encode(input_texts, normalize_embeddings=True)"
   ]
  }
 ],
 "metadata": {
  "kernelspec": {
   "display_name": "predictiv_chatbot",
   "language": "python",
   "name": "python3"
  },
  "language_info": {
   "codemirror_mode": {
    "name": "ipython",
    "version": 3
   },
   "file_extension": ".py",
   "mimetype": "text/x-python",
   "name": "python",
   "nbconvert_exporter": "python",
   "pygments_lexer": "ipython3",
   "version": "3.12.3"
  }
 },
 "nbformat": 4,
 "nbformat_minor": 2
}
