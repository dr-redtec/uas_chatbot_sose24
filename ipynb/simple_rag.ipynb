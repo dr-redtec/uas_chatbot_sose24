{
 "cells": [
  {
   "cell_type": "code",
   "execution_count": 2,
   "metadata": {},
   "outputs": [
    {
     "name": "stderr",
     "output_type": "stream",
     "text": [
      "/Volumes/data1/Programming/predictiv_chatbot/predictiv_chatbot/lib/python3.12/site-packages/sentence_transformers/cross_encoder/CrossEncoder.py:11: TqdmExperimentalWarning: Using `tqdm.autonotebook.tqdm` in notebook mode. Use `tqdm.tqdm` instead to force console mode (e.g. in jupyter console)\n",
      "  from tqdm.autonotebook import tqdm, trange\n"
     ]
    }
   ],
   "source": [
    "import os\n",
    "import sys\n",
    "from dotenv import load_dotenv\n",
    "\n",
    "# für später wenn ich rag evaluiere \n",
    "#sys.path.append(os.path.abspath(os.path.join(os.getcwd(), '..'))) # Add the parent directory to the path since we work with notebooks\n",
    "# from helper_functions import *\n",
    "#from evaluation.evalute_rag import *\n",
    "from embeddings import *\n",
    "from llms import *\n",
    "\n",
    "# Initialisiere die Modelle\n",
    "# mistral_model, llama_model = initialize_models()\n",
    "\n",
    "# Nutze die Modelle weiter\n",
    "# print(mistral_model)\n",
    "# print(llama_model)\n",
    "\n",
    "# Load environment variables from a .env file\n",
    "load_dotenv()\n",
    "#from rank_bm25 import BM25Okapi\n",
    "\n",
    "from langchain.text_splitter import RecursiveCharacterTextSplitter\n",
    "\n",
    "from langchain_community.document_loaders import UnstructuredMarkdownLoader\n",
    "from langchain_core.documents import Document\n",
    "from sentence_transformers import SentenceTransformer\n",
    "\n",
    "from langchain.embeddings.base import Embeddings\n",
    "from typing import List\n",
    "\n",
    "import numpy as np\n",
    "\n",
    "import chromadb\n",
    "from chromadb.config import DEFAULT_TENANT, DEFAULT_DATABASE, Settings\n"
   ]
  },
  {
   "cell_type": "code",
   "execution_count": 21,
   "metadata": {},
   "outputs": [],
   "source": [
    "def replace_t_with_space(list_of_documents):\n",
    "    \"\"\"\n",
    "    Replaces all tab characters ('\\t') with spaces in the page content of each document.\n",
    "\n",
    "    Args:\n",
    "        list_of_documents: A list of document objects, each with a 'page_content' attribute.\n",
    "\n",
    "    Returns:\n",
    "        The modified list of documents with tab characters replaced by spaces.\n",
    "    \"\"\"\n",
    "\n",
    "    for doc in list_of_documents:\n",
    "        doc.page_content = doc.page_content.replace('\\t', ' ')  # Replace tabs with spaces\n",
    "    return list_of_documents"
   ]
  },
  {
   "cell_type": "code",
   "execution_count": 3,
   "metadata": {},
   "outputs": [
    {
     "name": "stdout",
     "output_type": "stream",
     "text": [
      "Collection 'document_embeddings_v10' erfolgreich gelöscht.\n"
     ]
    }
   ],
   "source": [
    "def delete_chroma_collection(collection_name='document_embeddings_v10', persist_directory='chroma_db_v4'):\n",
    "    # Öffne die Chroma-Datenbank mit Persistierung\n",
    "    client = chromadb.PersistentClient(\n",
    "        path=persist_directory,\n",
    "        settings=Settings(),\n",
    "        tenant=DEFAULT_TENANT,\n",
    "        database=DEFAULT_DATABASE,\n",
    "    )\n",
    "    \n",
    "    # Überprüfe, ob die Collection existiert, und lösche sie, wenn ja\n",
    "    existing_collections = [col.name for col in client.list_collections()]\n",
    "    if collection_name in existing_collections:\n",
    "        client.delete_collection(name=collection_name)\n",
    "        print(f\"Collection '{collection_name}' erfolgreich gelöscht.\")\n",
    "    else:\n",
    "        print(f\"Collection '{collection_name}' nicht gefunden.\")\n",
    "        \n",
    "delete_chroma_collection(collection_name='document_embeddings_v10')"
   ]
  },
  {
   "cell_type": "code",
   "execution_count": 26,
   "metadata": {},
   "outputs": [],
   "source": [
    "def encode_md(path, chunk_size=500, chunk_overlap=100):\n",
    "    \"\"\"\n",
    "    Encodes a Markdown file into a vector store using OpenAI embeddings.\n",
    "\n",
    "    Args:\n",
    "        path: The path to the Markdown file.\n",
    "        chunk_size: The desired size of each text chunk.\n",
    "        chunk_overlap: The amount of overlap between consecutive chunks.\n",
    "\n",
    "    Returns:\n",
    "        \n",
    "    \"\"\"\n",
    "\n",
    "    # Load Markdown documents\n",
    "    loader = UnstructuredMarkdownLoader(path)\n",
    "    documents = loader.load()\n",
    "\n",
    "    # Split documents into chunks\n",
    "    text_splitter = RecursiveCharacterTextSplitter(\n",
    "        chunk_size=chunk_size, chunk_overlap=chunk_overlap, length_function=len\n",
    "    )\n",
    "    texts = text_splitter.split_documents(documents)\n",
    "    cleaned_texts = replace_t_with_space(texts)\n",
    "    # print(cleaned_documents)\n",
    "    # Create embeddings and vector store\n",
    "    # Extrahiere den Text aus den Document-Objekten\n",
    "    # texts = [doc.page_content for doc in cleaned_texts]\n",
    "\n",
    "    # Erstelle die Embeddings\n",
    "    # embeddings = model.encode(texts, convert_to_numpy=True)\n",
    "    # print(cleaned_texts)\n",
    "    \n",
    "    # Gliederung der Dokumente\n",
    "    # for document in cleaned_texts:\n",
    "    #     print(f\"Quelle: {document.metadata['source']}\")\n",
    "    #     print(\"\\nInhalt:\")\n",
    "    #     print(document.page_content)\n",
    "    #     print(\"\\n\" + \"-\"*50 + \"\\n\")\n",
    "    \n",
    "    return cleaned_texts\n",
    "\n",
    "\n",
    "md_folder_path = os.path.join('data', 'md_cleaned', 'was_kommt_wo_hinein_de.md')\n",
    "\n",
    "\n",
    "chunks_vector_store = encode_md(md_folder_path, chunk_size=500, chunk_overlap=100)"
   ]
  },
  {
   "cell_type": "code",
   "execution_count": 27,
   "metadata": {},
   "outputs": [],
   "source": [
    "def encode_md_from_folder(folder_path, chunk_size=500, chunk_overlap=100):\n",
    "    \"\"\"\n",
    "    Encodes all Markdown files in a folder into a vector store using OpenAI embeddings.\n",
    "\n",
    "    Args:\n",
    "        folder_path: The path to the folder containing Markdown files.\n",
    "        chunk_size: The desired size of each text chunk.\n",
    "        chunk_overlap: The amount of overlap between consecutive chunks.\n",
    "\n",
    "    Returns:\n",
    "        A list of cleaned text chunks from all Markdown files in the folder.\n",
    "    \"\"\"\n",
    "\n",
    "    all_cleaned_texts = []\n",
    "\n",
    "    # Iterate through all files in the folder\n",
    "    for filename in os.listdir(folder_path):\n",
    "        if filename.endswith(\".md\"):\n",
    "            file_path = os.path.join(folder_path, filename)\n",
    "\n",
    "            # Load Markdown documents\n",
    "            loader = UnstructuredMarkdownLoader(file_path)\n",
    "            documents = loader.load()\n",
    "\n",
    "            # Split documents into chunks\n",
    "            text_splitter = RecursiveCharacterTextSplitter(\n",
    "                chunk_size=chunk_size, chunk_overlap=chunk_overlap, length_function=len\n",
    "            )\n",
    "            texts = text_splitter.split_documents(documents)\n",
    "            cleaned_texts = replace_t_with_space(texts)\n",
    "\n",
    "            # Append cleaned texts to the list\n",
    "            all_cleaned_texts.extend(cleaned_texts)\n",
    "\n",
    "    return all_cleaned_texts\n",
    "\n",
    "# Beispielverwendung\n",
    "md_folder_path = os.path.join('data', 'md_cleaned')\n",
    "\n",
    "chunks_vector_store = encode_md_from_folder(md_folder_path, chunk_size=500, chunk_overlap=100)"
   ]
  },
  {
   "cell_type": "code",
   "execution_count": 28,
   "metadata": {},
   "outputs": [
    {
     "data": {
      "text/html": [
       "\n",
       "    <div style=\"border: 1px solid black; padding: 10px; margin: 10px; max-height: 300px; overflow-y: auto;\">\n",
       "        <h3>Quelle:</h3>\n",
       "        <p style=\"white-space: pre-wrap;\">{'data/md_cleaned/was_kommt_wo_hinein_de.md'}</p>\n",
       "        <h3>Inhalt Chunk:</h3>\n",
       "        <p style=\"white-space: pre-wrap; color: green;\">Der blaue Altglascontainer\n",
       "\n",
       "Das kommt hinein:\n",
       "\n",
       "Saubere Flaschen und Deckelgläser nach den Farben Weiß, Grün und Braun getrennt; blaues oder buntes Glas bitte immer zum Grünglas geben.\n",
       "\n",
       "Glasflaschen\n",
       "\n",
       "Konservengläser\n",
       "\n",
       "Das kommt nicht hinein:\n",
       "\n",
       "Flachglas wie Spiegel und Scheiben (Restmüll oder Sperrmüll)\n",
       "\n",
       "Trinkgläser und Blumenvasen (Restmüll)\n",
       "\n",
       "Porzellan und Keramik (Restmüll)\n",
       "\n",
       "Glühbirnen (Restmüll), Energiesparlampen (Schadstoffmobil oder Wertstoffhöfe)\n",
       "\n",
       "Stark verschmutzte Gläser (Restmüll)</p>\n",
       "    </div>\n",
       "    "
      ],
      "text/plain": [
       "<IPython.core.display.HTML object>"
      ]
     },
     "metadata": {},
     "output_type": "display_data"
    },
    {
     "data": {
      "text/html": [
       "\n",
       "    <div style=\"border: 1px solid black; padding: 10px; margin: 10px; max-height: 300px; overflow-y: auto;\">\n",
       "        <h3>Quelle:</h3>\n",
       "        <p style=\"white-space: pre-wrap;\">{'data/md_cleaned/was_kommt_wo_hinein_de.md'}</p>\n",
       "        <h3>Inhalt Chunk:</h3>\n",
       "        <p style=\"white-space: pre-wrap; color: green;\">Stark verschmutzte Gläser (Restmüll)\n",
       "\n",
       "FES Frankfurter Entsorgungs- und Service GmbH\n",
       "Weidenbornstraße 40\n",
       "60389 Frankfurt am Main\n",
       "Servicetelefon: 0800 2008007-0\n",
       "Servicetelefax: 069 212-31323\n",
       "services@fes-frankfurt.de\n",
       "www.fes-frankfurt.de\n",
       "\n",
       "FES-Servicecenter\n",
       "Liebfrauenberg 52–54 (Ecke Töngesgasse/Schärfengässchen)\n",
       "60313 Frankfurt am Main\n",
       "Mo. – Fr. 10.00 – 18.00 Uhr\n",
       "Sa. 10.00 – 16.00 Uhr\n",
       "\n",
       "Was kommt wo hinein?\n",
       "Abfall richtig trennen – Wertstoffe sichern.\n",
       "\n",
       "Richtig trennen leicht gemacht:</p>\n",
       "    </div>\n",
       "    "
      ],
      "text/plain": [
       "<IPython.core.display.HTML object>"
      ]
     },
     "metadata": {},
     "output_type": "display_data"
    },
    {
     "data": {
      "text/html": [
       "\n",
       "    <div style=\"border: 1px solid black; padding: 10px; margin: 10px; max-height: 300px; overflow-y: auto;\">\n",
       "        <h3>Quelle:</h3>\n",
       "        <p style=\"white-space: pre-wrap;\">{'data/md_cleaned/was_kommt_wo_hinein_de.md'}</p>\n",
       "        <h3>Inhalt Chunk:</h3>\n",
       "        <p style=\"white-space: pre-wrap; color: green;\">Was kommt wo hinein?\n",
       "Abfall richtig trennen – Wertstoffe sichern.\n",
       "\n",
       "Richtig trennen leicht gemacht:\n",
       "\n",
       "Zu jedem Haus in Frankfurt gehören 4 Abfallbehälter: 3 Tonnen, deren Inhalt als wertvoller Rohstoff zu neuen Produkten weiterverarbeitet wird, und die graue Restmülltonne:\n",
       "\n",
       "Die gelbe Tonne für Verpackungen\n",
       "\n",
       "Die grüne Tonne für Papier und Pappe\n",
       "\n",
       "Die braune Tonne für Bioabfälle\n",
       "\n",
       "Die graue Tonne für den restlichen Abfall: den Restmüll\n",
       "\n",
       "Darüber hinaus gibt es folgende Entsorgungsangebote:</p>\n",
       "    </div>\n",
       "    "
      ],
      "text/plain": [
       "<IPython.core.display.HTML object>"
      ]
     },
     "metadata": {},
     "output_type": "display_data"
    },
    {
     "data": {
      "text/html": [
       "\n",
       "    <div style=\"border: 1px solid black; padding: 10px; margin: 10px; max-height: 300px; overflow-y: auto;\">\n",
       "        <h3>Quelle:</h3>\n",
       "        <p style=\"white-space: pre-wrap;\">{'data/md_cleaned/was_kommt_wo_hinein_de.md'}</p>\n",
       "        <h3>Inhalt Chunk:</h3>\n",
       "        <p style=\"white-space: pre-wrap; color: green;\">Darüber hinaus gibt es folgende Entsorgungsangebote:\n",
       "\n",
       "Altglas:\n",
       "Altglascontainer für Flaschen und Deckelgläser finden Sie an öffentlichen Plätzen.\n",
       "\n",
       "Altkleider:\n",
       "Container für Altkleider und Schuhe finden Sie in jedem Stadtteil auf öffentlichen Plätzen sowie auf den FES-Wertstoffhöfen.</p>\n",
       "    </div>\n",
       "    "
      ],
      "text/plain": [
       "<IPython.core.display.HTML object>"
      ]
     },
     "metadata": {},
     "output_type": "display_data"
    },
    {
     "data": {
      "text/html": [
       "\n",
       "    <div style=\"border: 1px solid black; padding: 10px; margin: 10px; max-height: 300px; overflow-y: auto;\">\n",
       "        <h3>Quelle:</h3>\n",
       "        <p style=\"white-space: pre-wrap;\">{'data/md_cleaned/was_kommt_wo_hinein_de.md'}</p>\n",
       "        <h3>Inhalt Chunk:</h3>\n",
       "        <p style=\"white-space: pre-wrap; color: green;\">Schadstoffe:\n",
       "Abfälle aus oder mit gefährlichen Stoffen wie Farben, Spraydosen, Lösemitteln etc. können Sie am FES-Schadstoffmobil abgeben: Alle Standorte und Termine finden Sie auf www.fes-frankfurt.de oder im FES-Magazin OSKAR, das dreimal im Jahr an alle Haushalte verteilt wird.</p>\n",
       "    </div>\n",
       "    "
      ],
      "text/plain": [
       "<IPython.core.display.HTML object>"
      ]
     },
     "metadata": {},
     "output_type": "display_data"
    },
    {
     "data": {
      "text/html": [
       "\n",
       "    <div style=\"border: 1px solid black; padding: 10px; margin: 10px; max-height: 300px; overflow-y: auto;\">\n",
       "        <h3>Quelle:</h3>\n",
       "        <p style=\"white-space: pre-wrap;\">{'data/md_cleaned/was_kommt_wo_hinein_de.md'}</p>\n",
       "        <h3>Inhalt Chunk:</h3>\n",
       "        <p style=\"white-space: pre-wrap; color: green;\">Sperrmüllabholung:\n",
       "Bis zu 10 m³ holt die FES kostenlos bei Ihnen ab.* Einen Termin erhalten Sie am Servicetelefon 0800 2008007-10 oder unter www.fes-frankfurt.de. In manchen Wohnsiedlungen wird Sperrmüll automatisch alle 4 Wochen abgeholt – die Termine finden Sie am schwarzen Brett in Ihrem Haus.</p>\n",
       "    </div>\n",
       "    "
      ],
      "text/plain": [
       "<IPython.core.display.HTML object>"
      ]
     },
     "metadata": {},
     "output_type": "display_data"
    },
    {
     "data": {
      "text/html": [
       "\n",
       "    <div style=\"border: 1px solid black; padding: 10px; margin: 10px; max-height: 300px; overflow-y: auto;\">\n",
       "        <h3>Quelle:</h3>\n",
       "        <p style=\"white-space: pre-wrap;\">{'data/md_cleaned/was_kommt_wo_hinein_de.md'}</p>\n",
       "        <h3>Inhalt Chunk:</h3>\n",
       "        <p style=\"white-space: pre-wrap; color: green;\">Sperrmüll und Wertstoffe selbst entsorgen:\n",
       "Einen Kofferraum voll (1 m³) an Sperrmüll, Grünschnitt, Altmetall, Altpapier, Verpackungen sowie Elektroschrott können Sie auf den FES-Wertstoffhöfen abgeben. Mehr Informationen finden Sie auf www.fes-frankfurt.de sowie im FES-Magazin OSKAR.</p>\n",
       "    </div>\n",
       "    "
      ],
      "text/plain": [
       "<IPython.core.display.HTML object>"
      ]
     },
     "metadata": {},
     "output_type": "display_data"
    },
    {
     "data": {
      "text/html": [
       "\n",
       "    <div style=\"border: 1px solid black; padding: 10px; margin: 10px; max-height: 300px; overflow-y: auto;\">\n",
       "        <h3>Quelle:</h3>\n",
       "        <p style=\"white-space: pre-wrap;\">{'data/md_cleaned/was_kommt_wo_hinein_de.md'}</p>\n",
       "        <h3>Inhalt Chunk:</h3>\n",
       "        <p style=\"white-space: pre-wrap; color: green;\">Abfallbehälter/Container bestellen:\n",
       "Sollten Ihre Abfalltonnen am Haus auf Dauer nicht ausreichen, können Sie als Hausbesitzer weitere/größere bestellen: im Internet auf www.fes-frankfurt.de oder per Service-Fax (069 212-32723). Näheres über Spezialbehälter für besondere Abfälle (z. B. Baustellenabfälle u. Ä.) erfahren Sie unter unserer Servicetelefonnummer 0800 2008007-70.\n",
       "\n",
       "Die Kosten für den Sperrmüll sind in Ihrer Abfallgebühr enthalten.\n",
       "\n",
       "Die gelbe Verpackungstonne\n",
       "\n",
       "Das kommt hinein:</p>\n",
       "    </div>\n",
       "    "
      ],
      "text/plain": [
       "<IPython.core.display.HTML object>"
      ]
     },
     "metadata": {},
     "output_type": "display_data"
    },
    {
     "data": {
      "text/html": [
       "\n",
       "    <div style=\"border: 1px solid black; padding: 10px; margin: 10px; max-height: 300px; overflow-y: auto;\">\n",
       "        <h3>Quelle:</h3>\n",
       "        <p style=\"white-space: pre-wrap;\">{'data/md_cleaned/was_kommt_wo_hinein_de.md'}</p>\n",
       "        <h3>Inhalt Chunk:</h3>\n",
       "        <p style=\"white-space: pre-wrap; color: green;\">Die gelbe Verpackungstonne\n",
       "\n",
       "Das kommt hinein:\n",
       "\n",
       "Alle Verpackungen mit oder ohne Symbol wie den Grünen Punkt, die nicht ausschließlich aus Papier, Pappe oder Glas bestehen. Die Verpackungen müssen nicht gespült, aber leer sein.\n",
       "\n",
       "Verpackungen aus Kunststoff wie Folien, Becher und Styropor\n",
       "\n",
       "Verbundverpackungen aus Materialmix (z. B. Alu + Papier) wie Getränkekartons und Milchtüten\n",
       "\n",
       "Verpackungen aus Metall wie Konserven- und Getränkedosen\n",
       "\n",
       "Geschäumte Kunststoffe, z. B. Obst- und Gemüseverpackungen</p>\n",
       "    </div>\n",
       "    "
      ],
      "text/plain": [
       "<IPython.core.display.HTML object>"
      ]
     },
     "metadata": {},
     "output_type": "display_data"
    },
    {
     "data": {
      "text/html": [
       "\n",
       "    <div style=\"border: 1px solid black; padding: 10px; margin: 10px; max-height: 300px; overflow-y: auto;\">\n",
       "        <h3>Quelle:</h3>\n",
       "        <p style=\"white-space: pre-wrap;\">{'data/md_cleaned/was_kommt_wo_hinein_de.md'}</p>\n",
       "        <h3>Inhalt Chunk:</h3>\n",
       "        <p style=\"white-space: pre-wrap; color: green;\">Geschäumte Kunststoffe, z. B. Obst- und Gemüseverpackungen\n",
       "\n",
       "Das kommt nicht hinein:\n",
       "\n",
       "Verpackungen aus Papier und Pappe (Altpapiertonne)\n",
       "\n",
       "Verpackungen aus Glas (Altglascontainer)\n",
       "\n",
       "Stark verschmutzte Fast-Food-Verpackungen wie Pizzakartons (Restmüll)\n",
       "\n",
       "Hinweis: Ist zu viel Restmüll in der gelben Tonne, können die Wertstoffe nicht mehr aussortiert und weiterverarbeitet werden.\n",
       "\n",
       "Standort: Am Wohnhaus\n",
       "Leerung: 14-täglich\n",
       "\n",
       "Die grüne Altpapiertonne\n",
       "\n",
       "Das kommt hinein:</p>\n",
       "    </div>\n",
       "    "
      ],
      "text/plain": [
       "<IPython.core.display.HTML object>"
      ]
     },
     "metadata": {},
     "output_type": "display_data"
    },
    {
     "data": {
      "text/html": [
       "\n",
       "    <div style=\"border: 1px solid black; padding: 10px; margin: 10px; max-height: 300px; overflow-y: auto;\">\n",
       "        <h3>Quelle:</h3>\n",
       "        <p style=\"white-space: pre-wrap;\">{'data/md_cleaned/was_kommt_wo_hinein_de.md'}</p>\n",
       "        <h3>Inhalt Chunk:</h3>\n",
       "        <p style=\"white-space: pre-wrap; color: green;\">Standort: Am Wohnhaus\n",
       "Leerung: 14-täglich\n",
       "\n",
       "Die grüne Altpapiertonne\n",
       "\n",
       "Das kommt hinein:\n",
       "\n",
       "In die grüne Altpapiertonne gehören Papier und Pappe – ohne Beschichtung und unverschmutzt.\n",
       "\n",
       "Pappen und Kartonagen\n",
       "\n",
       "Zeitungen, Illustrierte, Kataloge\n",
       "\n",
       "Bücher und Hefte\n",
       "\n",
       "Das kommt nicht hinein:\n",
       "\n",
       "Stark verschmutztes Papier (Restmüll)\n",
       "\n",
       "Beschichtetes Papier (Restmüll)\n",
       "\n",
       "Pergament- und Hygienepapiere, Windeln (Restmüll)</p>\n",
       "    </div>\n",
       "    "
      ],
      "text/plain": [
       "<IPython.core.display.HTML object>"
      ]
     },
     "metadata": {},
     "output_type": "display_data"
    },
    {
     "data": {
      "text/html": [
       "\n",
       "    <div style=\"border: 1px solid black; padding: 10px; margin: 10px; max-height: 300px; overflow-y: auto;\">\n",
       "        <h3>Quelle:</h3>\n",
       "        <p style=\"white-space: pre-wrap;\">{'data/md_cleaned/was_kommt_wo_hinein_de.md'}</p>\n",
       "        <h3>Inhalt Chunk:</h3>\n",
       "        <p style=\"white-space: pre-wrap; color: green;\">Beschichtetes Papier (Restmüll)\n",
       "\n",
       "Pergament- und Hygienepapiere, Windeln (Restmüll)\n",
       "\n",
       "Hinweis: Näheres über sichere Aktenvernichtung erfahren Sie unter der Servicetelefonnummer 0800 2008007-70.\n",
       "\n",
       "Standort: Am Wohnhaus\n",
       "Leerung: 14-täglich\n",
       "\n",
       "Die braune Biotonne\n",
       "\n",
       "Das kommt hinein:</p>\n",
       "    </div>\n",
       "    "
      ],
      "text/plain": [
       "<IPython.core.display.HTML object>"
      ]
     },
     "metadata": {},
     "output_type": "display_data"
    },
    {
     "data": {
      "text/html": [
       "\n",
       "    <div style=\"border: 1px solid black; padding: 10px; margin: 10px; max-height: 300px; overflow-y: auto;\">\n",
       "        <h3>Quelle:</h3>\n",
       "        <p style=\"white-space: pre-wrap;\">{'data/md_cleaned/was_kommt_wo_hinein_de.md'}</p>\n",
       "        <h3>Inhalt Chunk:</h3>\n",
       "        <p style=\"white-space: pre-wrap; color: green;\">Standort: Am Wohnhaus\n",
       "Leerung: 14-täglich\n",
       "\n",
       "Die braune Biotonne\n",
       "\n",
       "Das kommt hinein:\n",
       "\n",
       "Alle biologisch abbaubaren Abfälle aus privaten Haushalten. Feuchte Bioabfälle wie Salat- oder Obst- und Gemüsereste können Sie in Zeitungs- oder Küchenpapier wickeln. So schützen Sie Ihre Tonne vor starker Verschmutzung und Geruch.\n",
       "\n",
       "Obst- und Gemüseabfälle (auch Zitrusfrüchte, Bananen- und Nussschalen)\n",
       "\n",
       "Rohe und gekochte Speise- und Lebensmittelreste\n",
       "\n",
       "Kaffee- und Teesatz, Filtertüten, Eierschalen</p>\n",
       "    </div>\n",
       "    "
      ],
      "text/plain": [
       "<IPython.core.display.HTML object>"
      ]
     },
     "metadata": {},
     "output_type": "display_data"
    },
    {
     "data": {
      "text/html": [
       "\n",
       "    <div style=\"border: 1px solid black; padding: 10px; margin: 10px; max-height: 300px; overflow-y: auto;\">\n",
       "        <h3>Quelle:</h3>\n",
       "        <p style=\"white-space: pre-wrap;\">{'data/md_cleaned/was_kommt_wo_hinein_de.md'}</p>\n",
       "        <h3>Inhalt Chunk:</h3>\n",
       "        <p style=\"white-space: pre-wrap; color: green;\">Rohe und gekochte Speise- und Lebensmittelreste\n",
       "\n",
       "Kaffee- und Teesatz, Filtertüten, Eierschalen\n",
       "\n",
       "Grünschnitt und Laub\n",
       "\n",
       "Das kommt nicht hinein:\n",
       "\n",
       "Plastiktüten, Verpackungen aus Kunststoff und Metall (gelbe Verpackungstonne)\n",
       "\n",
       "Kehricht und Staubsaugerbeutel (Restmüll)\n",
       "\n",
       "Zigarettenkippen (Restmüll)\n",
       "\n",
       "Windeln und andere gebrauchte Hygieneartikel (Restmüll)\n",
       "\n",
       "Standort: Am Wohnhaus\n",
       "Leerung: 14-täglich\n",
       "\n",
       "Die graue Restmülltonne\n",
       "\n",
       "Das kommt hinein:</p>\n",
       "    </div>\n",
       "    "
      ],
      "text/plain": [
       "<IPython.core.display.HTML object>"
      ]
     },
     "metadata": {},
     "output_type": "display_data"
    },
    {
     "data": {
      "text/html": [
       "\n",
       "    <div style=\"border: 1px solid black; padding: 10px; margin: 10px; max-height: 300px; overflow-y: auto;\">\n",
       "        <h3>Quelle:</h3>\n",
       "        <p style=\"white-space: pre-wrap;\">{'data/md_cleaned/was_kommt_wo_hinein_de.md'}</p>\n",
       "        <h3>Inhalt Chunk:</h3>\n",
       "        <p style=\"white-space: pre-wrap; color: green;\">Standort: Am Wohnhaus\n",
       "Leerung: 14-täglich\n",
       "\n",
       "Die graue Restmülltonne\n",
       "\n",
       "Das kommt hinein:\n",
       "\n",
       "Alle Abfälle, die aufgrund von Verunreinigung oder Vermischung in keine der anderen 3 Tonnen entsorgt werden können (z. B. verschmutzte Lebensmittelverpackungen), sowie:\n",
       "\n",
       "Hygieneartikel (z. B. Taschentücher, Damenbinden, Wattebäusche)\n",
       "\n",
       "Babywindeln\n",
       "\n",
       "Staub, Asche, Kehricht\n",
       "\n",
       "Zigarettenkippen\n",
       "\n",
       "Küchentücher, Spül- und Putzlappen\n",
       "\n",
       "Staubsaugerbeutel\n",
       "\n",
       "Trinkgläser, Porzellan, Keramik, alle Scherben (auch Spiegel)</p>\n",
       "    </div>\n",
       "    "
      ],
      "text/plain": [
       "<IPython.core.display.HTML object>"
      ]
     },
     "metadata": {},
     "output_type": "display_data"
    },
    {
     "data": {
      "text/html": [
       "\n",
       "    <div style=\"border: 1px solid black; padding: 10px; margin: 10px; max-height: 300px; overflow-y: auto;\">\n",
       "        <h3>Quelle:</h3>\n",
       "        <p style=\"white-space: pre-wrap;\">{'data/md_cleaned/was_kommt_wo_hinein_de.md'}</p>\n",
       "        <h3>Inhalt Chunk:</h3>\n",
       "        <p style=\"white-space: pre-wrap; color: green;\">Staubsaugerbeutel\n",
       "\n",
       "Trinkgläser, Porzellan, Keramik, alle Scherben (auch Spiegel)\n",
       "\n",
       "Das kommt nicht hinein:\n",
       "\n",
       "Elektrogeräte/-schrott (Wertstoffhöfe, Großgeräte auch Sperrmüll)\n",
       "\n",
       "Batterien (spezielle Sammelbehälter in Supermärkten und öffentlichen Gebäuden)\n",
       "\n",
       "Sonderabfall/Schadstoffe wie Farben, Lacke, Sprays etc. (Schadstoffmobil)\n",
       "\n",
       "Standort: Am Wohnhaus\n",
       "Leerung: Wöchentlich</p>\n",
       "    </div>\n",
       "    "
      ],
      "text/plain": [
       "<IPython.core.display.HTML object>"
      ]
     },
     "metadata": {},
     "output_type": "display_data"
    },
    {
     "data": {
      "text/html": [
       "\n",
       "    <div style=\"border: 1px solid black; padding: 10px; margin: 10px; max-height: 300px; overflow-y: auto;\">\n",
       "        <h3>Quelle:</h3>\n",
       "        <p style=\"white-space: pre-wrap;\">{'data/md_cleaned/poster_muelltrennung_2022.md'}</p>\n",
       "        <h3>Inhalt Chunk:</h3>\n",
       "        <p style=\"white-space: pre-wrap; color: green;\">Wir trennen unseren Abfall\n",
       "Für das Recycling unseres Abfalls ist die korrekte Mülltrennung wichtig. Verpackungen, Elektrogeräte, Batterien, Bioabfall – so werden Wertstoffe richtig entsorgt:</p>\n",
       "    </div>\n",
       "    "
      ],
      "text/plain": [
       "<IPython.core.display.HTML object>"
      ]
     },
     "metadata": {},
     "output_type": "display_data"
    },
    {
     "data": {
      "text/html": [
       "\n",
       "    <div style=\"border: 1px solid black; padding: 10px; margin: 10px; max-height: 300px; overflow-y: auto;\">\n",
       "        <h3>Quelle:</h3>\n",
       "        <p style=\"white-space: pre-wrap;\">{'data/md_cleaned/poster_muelltrennung_2022.md'}</p>\n",
       "        <h3>Inhalt Chunk:</h3>\n",
       "        <p style=\"white-space: pre-wrap; color: green;\">Altglas (meist Containersammlung)\n",
       "Alle leeren Verpackungen aus Glas, nach Farben sortiert (z. B. Flaschen ohne Pfand, Marmeladen-, Senfgläser, …).\n",
       "Blaues Glas bitte zum Grünglas.\n",
       "Auf keinen Fall: Fensterglas, Geschirr, Spiegel, Keramik, Porzellan, Glühbirnen, Kristallglas einwerfen – alle stören das Recycling.\n",
       "\n",
       "Altpapier (Container und blaue Tonne)\n",
       "\n",
       "Papier, Pappe und Karton\n",
       "\n",
       "Leere Verpackungen, Versandkartons, …</p>\n",
       "    </div>\n",
       "    "
      ],
      "text/plain": [
       "<IPython.core.display.HTML object>"
      ]
     },
     "metadata": {},
     "output_type": "display_data"
    },
    {
     "data": {
      "text/html": [
       "\n",
       "    <div style=\"border: 1px solid black; padding: 10px; margin: 10px; max-height: 300px; overflow-y: auto;\">\n",
       "        <h3>Quelle:</h3>\n",
       "        <p style=\"white-space: pre-wrap;\">{'data/md_cleaned/poster_muelltrennung_2022.md'}</p>\n",
       "        <h3>Inhalt Chunk:</h3>\n",
       "        <p style=\"white-space: pre-wrap; color: green;\">Papier, Pappe und Karton\n",
       "\n",
       "Leere Verpackungen, Versandkartons, …\n",
       "\n",
       "Zeitschriften/Zeitungen, Schulhefte etc.\n",
       "Thermopapier wie Kassenzettel oder Fahrkarten, Tapeten gehören in den Restmüll, Getränkekartons in die Gelbe Tonne.\n",
       "\n",
       "Gelbe Tonne und gelber Sack\n",
       "Alle leeren Verpackungen außer Glas und Papier/Pappe, vor allem aus:\n",
       "\n",
       "Kunststoff\n",
       "\n",
       "Metallen wie Aluminium und Weißblech\n",
       "\n",
       "Verbundmaterialien, Getränkekartons, To-Go Getränkebecher, …</p>\n",
       "    </div>\n",
       "    "
      ],
      "text/plain": [
       "<IPython.core.display.HTML object>"
      ]
     },
     "metadata": {},
     "output_type": "display_data"
    },
    {
     "data": {
      "text/html": [
       "\n",
       "    <div style=\"border: 1px solid black; padding: 10px; margin: 10px; max-height: 300px; overflow-y: auto;\">\n",
       "        <h3>Quelle:</h3>\n",
       "        <p style=\"white-space: pre-wrap;\">{'data/md_cleaned/poster_muelltrennung_2022.md'}</p>\n",
       "        <h3>Inhalt Chunk:</h3>\n",
       "        <p style=\"white-space: pre-wrap; color: green;\">Tipps und Tricks bei Verpackungen\n",
       "Materialien möglichst trennen und nicht ineinander stopfen, dann können sie besser recycelt werden. Also: Bitte Deckel ab beim Joghurtbecher, Kunststofftüten aus dem Pappkarton herausnehmen, usw. – Die Umwelt dankt!\n",
       "Verpackungen mit Inhalt gehören in den Restmüll oder bei schadstoffhaltiger Füllung (z.B. Farben, Lacke, Flüssigdünger) in die Schadstoffsammlung.</p>\n",
       "    </div>\n",
       "    "
      ],
      "text/plain": [
       "<IPython.core.display.HTML object>"
      ]
     },
     "metadata": {},
     "output_type": "display_data"
    },
    {
     "data": {
      "text/html": [
       "\n",
       "    <div style=\"border: 1px solid black; padding: 10px; margin: 10px; max-height: 300px; overflow-y: auto;\">\n",
       "        <h3>Quelle:</h3>\n",
       "        <p style=\"white-space: pre-wrap;\">{'data/md_cleaned/poster_muelltrennung_2022.md'}</p>\n",
       "        <h3>Inhalt Chunk:</h3>\n",
       "        <p style=\"white-space: pre-wrap; color: green;\">Regionale Besonderheiten, wie z.B. eine Wertstofftonne sind möglich. Nähere Informationen erteilt Ihre kommunale Abfallberatung.</p>\n",
       "    </div>\n",
       "    "
      ],
      "text/plain": [
       "<IPython.core.display.HTML object>"
      ]
     },
     "metadata": {},
     "output_type": "display_data"
    },
    {
     "data": {
      "text/html": [
       "\n",
       "    <div style=\"border: 1px solid black; padding: 10px; margin: 10px; max-height: 300px; overflow-y: auto;\">\n",
       "        <h3>Quelle:</h3>\n",
       "        <p style=\"white-space: pre-wrap;\">{'data/md_cleaned/poster_muelltrennung_2022.md'}</p>\n",
       "        <h3>Inhalt Chunk:</h3>\n",
       "        <p style=\"white-space: pre-wrap; color: green;\">Bioabfall (Biotonne)\n",
       "Alle organischen:\n",
       "\n",
       "Küchenabfälle (z.B. Obst, Gemüse, Lebensmittelreste, Teebeutel, Kaffeesatz, Eierschalen, …)\n",
       "\n",
       "Gartenabfälle (z.B. Rasen- und Heckenschnitt, Unkraut, …)\n",
       "Bitte keine Plastiktüten und keine Verpackungen, denn sie gefährden die Nutzung des Komposts.</p>\n",
       "    </div>\n",
       "    "
      ],
      "text/plain": [
       "<IPython.core.display.HTML object>"
      ]
     },
     "metadata": {},
     "output_type": "display_data"
    },
    {
     "data": {
      "text/html": [
       "\n",
       "    <div style=\"border: 1px solid black; padding: 10px; margin: 10px; max-height: 300px; overflow-y: auto;\">\n",
       "        <h3>Quelle:</h3>\n",
       "        <p style=\"white-space: pre-wrap;\">{'data/md_cleaned/poster_muelltrennung_2022.md'}</p>\n",
       "        <h3>Inhalt Chunk:</h3>\n",
       "        <p style=\"white-space: pre-wrap; color: green;\">Sonstige Abfälle\n",
       "Nicht in den Restmüll gehören z. B. Schadstoffe wie flüssige Farben und Lacke, Haushalts- und Gartenchemikalien, Klebstoffe, Altöle oder Bau- und Abbruchabfälle, …\n",
       "Hilfreiche Informationen erteilt Ihre kommunale Abfallberatung, die Gemeinde, das Rathaus, …\n",
       "\n",
       "Weitere hilfreiche Tipps zur richtigen Mülltrennung bietet auch die Initiative „Mülltrennung wirkt“ – www.muelltrennung-wirkt.de.</p>\n",
       "    </div>\n",
       "    "
      ],
      "text/plain": [
       "<IPython.core.display.HTML object>"
      ]
     },
     "metadata": {},
     "output_type": "display_data"
    },
    {
     "data": {
      "text/html": [
       "\n",
       "    <div style=\"border: 1px solid black; padding: 10px; margin: 10px; max-height: 300px; overflow-y: auto;\">\n",
       "        <h3>Quelle:</h3>\n",
       "        <p style=\"white-space: pre-wrap;\">{'data/md_cleaned/poster_muelltrennung_2022.md'}</p>\n",
       "        <h3>Inhalt Chunk:</h3>\n",
       "        <p style=\"white-space: pre-wrap; color: green;\">Elektro- und Elektronik(alt)geräte\n",
       "… sind aufgrund des hohen Schad- und Wertstoffgehaltes gesondert, also nicht über den Restmüll, zu entsorgen. Darauf weist auch die durchgestrichene Mülltonne auf dem Gerät hin.\n",
       "\n",
       "Wertstoffhöfe und kommunale Sammelstellen:\n",
       "\n",
       "Alle Arten von Elektroaltgeräten sortiert in Container und kleinere Behälter\n",
       "\n",
       "Rücknahme im Handel:</p>\n",
       "    </div>\n",
       "    "
      ],
      "text/plain": [
       "<IPython.core.display.HTML object>"
      ]
     },
     "metadata": {},
     "output_type": "display_data"
    },
    {
     "data": {
      "text/html": [
       "\n",
       "    <div style=\"border: 1px solid black; padding: 10px; margin: 10px; max-height: 300px; overflow-y: auto;\">\n",
       "        <h3>Quelle:</h3>\n",
       "        <p style=\"white-space: pre-wrap;\">{'data/md_cleaned/poster_muelltrennung_2022.md'}</p>\n",
       "        <h3>Inhalt Chunk:</h3>\n",
       "        <p style=\"white-space: pre-wrap; color: green;\">Alle Arten von Elektroaltgeräten sortiert in Container und kleinere Behälter\n",
       "\n",
       "Rücknahme im Handel:\n",
       "\n",
       "Größere Lebensmittelhändler, die mehrmals im Jahr Elektrogeräte anbieten (z.B. Supermärkte, Discounter, große Drogerien) und große Geschäfte, die Elektrogeräte anbieten (z.B. viele Elektromärkte, Baumärkte, …)\n",
       "\n",
       "… müssen Elektroaltgeräte kostenlos zurücknehmen:\n",
       "\n",
       "Beim Kauf eines neuen Geräts mit gleicher Funktion\n",
       "\n",
       "Kleine Geräte (< 25 cm) auch ohne Neukauf</p>\n",
       "    </div>\n",
       "    "
      ],
      "text/plain": [
       "<IPython.core.display.HTML object>"
      ]
     },
     "metadata": {},
     "output_type": "display_data"
    },
    {
     "data": {
      "text/html": [
       "\n",
       "    <div style=\"border: 1px solid black; padding: 10px; margin: 10px; max-height: 300px; overflow-y: auto;\">\n",
       "        <h3>Quelle:</h3>\n",
       "        <p style=\"white-space: pre-wrap;\">{'data/md_cleaned/poster_muelltrennung_2022.md'}</p>\n",
       "        <h3>Inhalt Chunk:</h3>\n",
       "        <p style=\"white-space: pre-wrap; color: green;\">Beim Kauf eines neuen Geräts mit gleicher Funktion\n",
       "\n",
       "Kleine Geräte (< 25 cm) auch ohne Neukauf\n",
       "\n",
       "Auch viele kleinere Händler nehmen Elektroaltgeräte freiwillig zurück.\n",
       "\n",
       "Achten Sie auch auf einheitliche Kennzeichnungen für Sammel- und Rücknahmestellen von Elektrogeräten und Batterien.</p>\n",
       "    </div>\n",
       "    "
      ],
      "text/plain": [
       "<IPython.core.display.HTML object>"
      ]
     },
     "metadata": {},
     "output_type": "display_data"
    },
    {
     "data": {
      "text/html": [
       "\n",
       "    <div style=\"border: 1px solid black; padding: 10px; margin: 10px; max-height: 300px; overflow-y: auto;\">\n",
       "        <h3>Quelle:</h3>\n",
       "        <p style=\"white-space: pre-wrap;\">{'data/md_cleaned/poster_muelltrennung_2022.md'}</p>\n",
       "        <h3>Inhalt Chunk:</h3>\n",
       "        <p style=\"white-space: pre-wrap; color: green;\">Batterien und Akkumulatoren\n",
       "… gehören nicht in den Hausmüll, denn sie können Brände auslösen und gesundheits- und umweltgefährdende Stoffe enthalten, die Mensch und Umwelt belasten – Ressourcen und Rohstoffe gehen auch verloren.\n",
       "\n",
       "Sammelboxen und -behältnisse:</p>\n",
       "    </div>\n",
       "    "
      ],
      "text/plain": [
       "<IPython.core.display.HTML object>"
      ]
     },
     "metadata": {},
     "output_type": "display_data"
    },
    {
     "data": {
      "text/html": [
       "\n",
       "    <div style=\"border: 1px solid black; padding: 10px; margin: 10px; max-height: 300px; overflow-y: auto;\">\n",
       "        <h3>Quelle:</h3>\n",
       "        <p style=\"white-space: pre-wrap;\">{'data/md_cleaned/poster_muelltrennung_2022.md'}</p>\n",
       "        <h3>Inhalt Chunk:</h3>\n",
       "        <p style=\"white-space: pre-wrap; color: green;\">Sammelboxen und -behältnisse:\n",
       "\n",
       "Überall im Handel, wo neue Batterien verkauft werden (z.B. Supermärkte, Drogeriemärkte, Warenhäuser, Elektro-Fachgeschäfte, Baumärkte, Tankstellen, Kioske, …) – oftmals im Eingangs- oder Ausgangsbereich, beispielsweise im Bereich der Einpacktische.\n",
       "\n",
       "Kommunale Sammelstellen (z. B. Wertstoffhöfe, Schadstoffmobile)\n",
       "\n",
       "Freiwillige Sammelstellen (z. B. Unternehmen, Behörden, Hochschulen)</p>\n",
       "    </div>\n",
       "    "
      ],
      "text/plain": [
       "<IPython.core.display.HTML object>"
      ]
     },
     "metadata": {},
     "output_type": "display_data"
    },
    {
     "data": {
      "text/html": [
       "\n",
       "    <div style=\"border: 1px solid black; padding: 10px; margin: 10px; max-height: 300px; overflow-y: auto;\">\n",
       "        <h3>Quelle:</h3>\n",
       "        <p style=\"white-space: pre-wrap;\">{'data/md_cleaned/poster_muelltrennung_2022.md'}</p>\n",
       "        <h3>Inhalt Chunk:</h3>\n",
       "        <p style=\"white-space: pre-wrap; color: green;\">Freiwillige Sammelstellen (z. B. Unternehmen, Behörden, Hochschulen)\n",
       "\n",
       "Wenn möglich und nicht fest verbaut, Batterien bitte aus Elektrogeräten vor der Entsorgung entnehmen und in die Batteriesammlung geben.\n",
       "\n",
       "Kontakt: Fachgebiete III 1.2, III 1.5, III 1.6 – buergerservice@uba.de\n",
       "Umweltbundesamt, Postfach 14 06, 06813 Dessau-Roßlau\n",
       "\n",
       "Regionale Besonderheiten, wie z.B. eine Wertstofftonne, sind möglich. Nähere Informationen erteilt Ihre kommunale Abfallberatung.</p>\n",
       "    </div>\n",
       "    "
      ],
      "text/plain": [
       "<IPython.core.display.HTML object>"
      ]
     },
     "metadata": {},
     "output_type": "display_data"
    }
   ],
   "source": [
    "from IPython.display import display, HTML\n",
    "\n",
    "def print_corrections(original, corrected):\n",
    "    display(HTML(f\"\"\"\n",
    "    <div style=\"border: 1px solid black; padding: 10px; margin: 10px; max-height: 300px; overflow-y: auto;\">\n",
    "        <h3>Quelle:</h3>\n",
    "        <p style=\"white-space: pre-wrap;\">{original}</p>\n",
    "        <h3>Inhalt Chunk:</h3>\n",
    "        <p style=\"white-space: pre-wrap; color: green;\">{corrected}</p>\n",
    "    </div>\n",
    "    \"\"\"))\n",
    "    \n",
    "# Aufruf der Funktion für jedes Dokument\n",
    "\n",
    "    \n",
    "for document in chunks_vector_store:\n",
    "    print_corrections({document.metadata['source']}, document.page_content)\n",
    "    "
   ]
  },
  {
   "cell_type": "code",
   "execution_count": 5,
   "metadata": {},
   "outputs": [
    {
     "name": "stdout",
     "output_type": "stream",
     "text": [
      "Embedding erstellt\n",
      "Embedding erstellt\n",
      "Embedding erstellt\n",
      "Embedding erstellt\n",
      "Embedding erstellt\n",
      "Embedding erstellt\n",
      "Embedding erstellt\n",
      "Embedding erstellt\n",
      "Embedding erstellt\n",
      "Embedding erstellt\n",
      "Embedding erstellt\n",
      "Embedding erstellt\n",
      "Embedding erstellt\n",
      "Embedding erstellt\n",
      "Embedding erstellt\n",
      "Embedding erstellt\n"
     ]
    }
   ],
   "source": [
    "def add_embeddings(list_of_documents):\n",
    "    \"\"\"\n",
    "\n",
    "    Args:\n",
    "        list_of_documents: A list of document objects, each with a 'page_content' attribute.\n",
    "\n",
    "    Returns:\n",
    "        The modified list of documents with tab characters replaced by spaces \n",
    "        and embeddings added.\n",
    "    \"\"\"\n",
    "    docs_with_embeddings_2 = []\n",
    "    \n",
    "    for doc in list_of_documents:\n",
    "        \n",
    "        # Generate embeddings for the page content\n",
    "        embeddings = create_embeddings(doc.page_content)\n",
    "\n",
    "        # Store the document and its embeddings in a dictionary\n",
    "        doc_dict = {'metadata': doc.metadata ,'page_content': doc.page_content, 'embeddings': embeddings}\n",
    "        docs_with_embeddings_2.append(doc_dict)\n",
    "    \n",
    "    return docs_with_embeddings_2\n",
    "    \n",
    "\n",
    "docs_with_embeddings = add_embeddings(chunks_vector_store)\n",
    "\n",
    "# Gliederung der Dokumente\n",
    "# for document in docs_with_embeddings:\n",
    "#     print(f\"Quelle: {document['metadata']['source']}\")\n",
    "#     print(\"\\nInhalt:\")\n",
    "#     print(document['page_content'])\n",
    "#     print(\"\\nEmbeddings:\")\n",
    "#     print(document['embeddings'])\n",
    "#     print(\"\\n\" + \"-\"*50 + \"\\n\")"
   ]
  },
  {
   "cell_type": "code",
   "execution_count": null,
   "metadata": {},
   "outputs": [],
   "source": [
    "from IPython.display import display, HTML\n",
    "\n",
    "def print_corrections(original, corrected, emb):\n",
    "    display(HTML(f\"\"\"\n",
    "    <div style=\"border: 1px solid black; padding: 10px; margin: 10px; max-height: 300px; overflow-y: auto;\">\n",
    "        <h3>Quelle:</h3>\n",
    "        <p style=\"white-space: pre-wrap;\">{original}</p>\n",
    "        <h3>Inhalt Chunk:</h3>\n",
    "        <p style=\"white-space: pre-wrap; color: green;\">{corrected}</p>\n",
    "        <h3>Embeddings:</h3>\n",
    "        <p style=\"white-space: pre-wrap; color: yellow;\">{emb}</p>\n",
    "    </div>\n",
    "    \"\"\"))\n",
    "    \n",
    "# Aufruf der Funktion für jedes Dokument\n",
    "\n",
    "    \n",
    "for document in docs_with_embeddings:\n",
    "    print_corrections({document['metadata']['source']}, document['page_content'], document['embeddings'])\n"
   ]
  },
  {
   "cell_type": "code",
   "execution_count": null,
   "metadata": {},
   "outputs": [],
   "source": [
    "for document in docs_with_embeddings:\n",
    "    print({document['metadata']['source']})"
   ]
  },
  {
   "cell_type": "code",
   "execution_count": 6,
   "metadata": {},
   "outputs": [
    {
     "name": "stdout",
     "output_type": "stream",
     "text": [
      "Chroma-Datenbank 'document_embeddings_v10' erfolgreich erstellt.\n",
      "id_1\n",
      "id_2\n",
      "id_3\n",
      "id_4\n",
      "id_5\n",
      "id_6\n",
      "id_7\n",
      "id_8\n",
      "id_9\n",
      "id_10\n",
      "id_11\n",
      "id_12\n",
      "id_13\n",
      "id_14\n",
      "id_15\n",
      "id_16\n",
      "Alle Chunks wurden erfolgreich mit ihren Embeddings und Metadaten zu Chroma hinzugefügt.\n"
     ]
    }
   ],
   "source": [
    "import chromadb\n",
    "from chromadb.config import DEFAULT_TENANT, DEFAULT_DATABASE, Settings\n",
    "#from chromadb.utils import embedding_functions\n",
    "from sentence_transformers import SentenceTransformer\n",
    "\n",
    "\n",
    "def create_chroma_v2(documents, collection_name, persist_directory):\n",
    "    # Erstelle oder öffne eine Chroma-Datenbank mit Persistierung\n",
    "    client = chromadb.PersistentClient(\n",
    "        path=persist_directory,\n",
    "        settings=Settings(),\n",
    "        tenant=DEFAULT_TENANT,\n",
    "        database=DEFAULT_DATABASE,\n",
    "    )\n",
    "    # Erstelle eine neue Collection in der Datenbank oder lade eine bestehende\n",
    "    collection = client.get_or_create_collection(name=collection_name)\n",
    "    \n",
    "    print(f\"Chroma-Datenbank '{collection_name}' erfolgreich erstellt.\")\n",
    "\n",
    "    for i, chunk in enumerate(documents):\n",
    "        # IDs werden dynamisch erzeugt, z.B. basierend auf dem Index\n",
    "        doc_id = f\"id_{i+1}\"\n",
    "\n",
    "        # Konvertiere die Embeddings in eine Liste von Listen\n",
    "            # Extrahiere die Metadaten, den Seiteninhalt und die Embeddings aus dem Dokument\n",
    "        source = chunk['metadata']['source']\n",
    "        page_content = chunk['page_content']\n",
    "        embeddings = chunk['embeddings']\n",
    "        \n",
    "        # Sicherstellen, dass Embeddings in der richtigen Form vorliegen (z.B. Liste von Listen)\n",
    "        if isinstance(embeddings, np.ndarray):  # Falls die Embeddings als NumPy-Array vorliegen\n",
    "            embeddings = embeddings.tolist()\n",
    "            \n",
    "        # Sicherstellen, dass page_content ein String ist\n",
    "        if isinstance(page_content, Document):\n",
    "            page_content = str(page_content)\n",
    "\n",
    "        # Optional: Keywords aus einer anderen Quelle beziehen, falls nötig\n",
    "        # keywords = keywords_per_chunk[i]  # Wenn du weiterhin auf die Keywords zugreifen möchtest\n",
    "\n",
    "        # Beispiel-Keyword-String (falls du weiterhin einen benötigen solltest)\n",
    "        # keywords_str = \", \".join(keywords)  # Dies kannst du anpassen, je nach Bedarf\n",
    "\n",
    "        # Hinzufügen des Chunks mit den entsprechenden Metadaten und Embeddings\n",
    "        collection.add(\n",
    "            documents=[page_content],  # Der Seiteninhalt des Dokuments\n",
    "            metadatas=[{\"source\": source}],  # Die Quelle als Metadaten\n",
    "            ids=[doc_id],  # Eine eindeutige ID für jeden Eintrag\n",
    "            embeddings=embeddings  # Die Embeddings als Liste von Listen\n",
    "        )\n",
    "        \n",
    "        print(doc_id)\n",
    "\n",
    "    print(\"Alle Chunks wurden erfolgreich mit ihren Embeddings und Metadaten zu Chroma hinzugefügt.\")\n",
    "    \n",
    "    \n",
    "collection_name='document_embeddings_v10'\n",
    "persist_directory='chroma_db_v4'\n",
    "\n",
    "\n",
    "create_chroma_v2(docs_with_embeddings, collection_name, persist_directory)"
   ]
  },
  {
   "cell_type": "code",
   "execution_count": 17,
   "metadata": {},
   "outputs": [
    {
     "name": "stdout",
     "output_type": "stream",
     "text": [
      "ID: id_4\n",
      "Erstes Dokument:\n",
      "Inhalt: Darüber hinaus gibt es folgende Entsorgungsangebote:\n",
      "\n",
      "Altglas:\n",
      "Altglascontainer für Flaschen und Deckelgläser finden Sie an öffentlichen Plätzen.\n",
      "\n",
      "Altkleider:\n",
      "Container für Altkleider und Schuhe finden Sie in jedem Stadtteil auf öffentlichen Plätzen sowie auf den FES-Wertstoffhöfen.\n",
      "Metadaten: {'source': 'data/md_cleaned/was_kommt_wo_hinein_de.md'}\n"
     ]
    }
   ],
   "source": [
    "import chromadb\n",
    "from chromadb.config import DEFAULT_TENANT, DEFAULT_DATABASE, Settings\n",
    "\n",
    "def get_first_document_from_chroma(collection_name, persist_directory):\n",
    "    # Erstelle einen PersistentClient, um die Chroma-Datenbank zu öffnen\n",
    "    client = chromadb.PersistentClient(\n",
    "        path=persist_directory,\n",
    "        settings=Settings(),\n",
    "        tenant=DEFAULT_TENANT,\n",
    "        database=DEFAULT_DATABASE,\n",
    "    )\n",
    "    \n",
    "    # Lade die entsprechende Collection\n",
    "    collection = client.get_collection(name=collection_name)\n",
    "    \n",
    "    # Definiere die ID des ersten Dokuments (basierend auf deiner vorherigen Logik)\n",
    "    first_doc_id = \"id_4\"\n",
    "    \n",
    "    # Suche nach dem ersten Dokument in der Collection\n",
    "    results = collection.get(ids=[first_doc_id])\n",
    "    \n",
    "    # Gib das Dokument und seine Metadaten aus\n",
    "    if results:\n",
    "        document = results['documents'][0]\n",
    "        metadata = results['metadatas'][0]\n",
    "        ids = results['ids'][0]\n",
    "        print(\"ID:\", ids)\n",
    "        print(\"Erstes Dokument:\")\n",
    "        print(\"Inhalt:\", document)\n",
    "        print(\"Metadaten:\", metadata)\n",
    "    else:\n",
    "        print(\"Kein Dokument mit der ID 'id_1' gefunden.\")\n",
    "\n",
    "# Beispielaufruf der Funktion\n",
    "collection_name='document_embeddings_v10'\n",
    "persist_directory='chroma_db_v4'\n",
    "get_first_document_from_chroma(collection_name, persist_directory)"
   ]
  },
  {
   "cell_type": "code",
   "execution_count": 3,
   "metadata": {},
   "outputs": [
    {
     "name": "stdout",
     "output_type": "stream",
     "text": [
      "Embedding erstellt\n",
      "Ähnlichkeitsscore: 0.7550992051784692\n",
      "Dokument 1:\n",
      "Inhalt: Geschäumte Kunststoffe, z. B. Obst- und Gemüseverpackungen\n",
      "\n",
      "Das kommt nicht hinein:\n",
      "\n",
      "Verpackungen aus Papier und Pappe (Altpapiertonne)\n",
      "\n",
      "Verpackungen aus Glas (Altglascontainer)\n",
      "\n",
      "Stark verschmutzte Fast-Food-Verpackungen wie Pizzakartons (Restmüll)\n",
      "\n",
      "Hinweis: Ist zu viel Restmüll in der gelben Tonne, können die Wertstoffe nicht mehr aussortiert und weiterverarbeitet werden.\n",
      "\n",
      "Standort: Am Wohnhaus\n",
      "Leerung: 14-täglich\n",
      "\n",
      "Die grüne Altpapiertonne\n",
      "\n",
      "Das kommt hinein:\n",
      "Metadaten: {'source': 'data/md_cleaned/was_kommt_wo_hinein_de.md'}\n",
      "\n",
      "Ähnlichkeitsscore: 0.7531164559257947\n",
      "Dokument 2:\n",
      "Inhalt: Darüber hinaus gibt es folgende Entsorgungsangebote:\n",
      "\n",
      "Altglas:\n",
      "Altglascontainer für Flaschen und Deckelgläser finden Sie an öffentlichen Plätzen.\n",
      "\n",
      "Altkleider:\n",
      "Container für Altkleider und Schuhe finden Sie in jedem Stadtteil auf öffentlichen Plätzen sowie auf den FES-Wertstoffhöfen.\n",
      "Metadaten: {'source': 'data/md_cleaned/was_kommt_wo_hinein_de.md'}\n",
      "\n",
      "Ähnlichkeitsscore: 0.7493447007394172\n",
      "Dokument 3:\n",
      "Inhalt: Rohe und gekochte Speise- und Lebensmittelreste\n",
      "\n",
      "Kaffee- und Teesatz, Filtertüten, Eierschalen\n",
      "\n",
      "Grünschnitt und Laub\n",
      "\n",
      "Das kommt nicht hinein:\n",
      "\n",
      "Plastiktüten, Verpackungen aus Kunststoff und Metall (gelbe Verpackungstonne)\n",
      "\n",
      "Kehricht und Staubsaugerbeutel (Restmüll)\n",
      "\n",
      "Zigarettenkippen (Restmüll)\n",
      "\n",
      "Windeln und andere gebrauchte Hygieneartikel (Restmüll)\n",
      "\n",
      "Standort: Am Wohnhaus\n",
      "Leerung: 14-täglich\n",
      "\n",
      "Die graue Restmülltonne\n",
      "\n",
      "Das kommt hinein:\n",
      "Metadaten: {'source': 'data/md_cleaned/was_kommt_wo_hinein_de.md'}\n",
      "\n"
     ]
    }
   ],
   "source": [
    "import chromadb\n",
    "from chromadb.config import DEFAULT_TENANT, DEFAULT_DATABASE, Settings\n",
    "\n",
    "def get_similar_documents_from_chroma(collection_name, persist_directory, query, top_k=3):\n",
    "    # Erstelle einen PersistentClient, um die Chroma-Datenbank zu öffnen\n",
    "    client = chromadb.PersistentClient(\n",
    "        path=persist_directory,\n",
    "        settings=Settings(),\n",
    "        tenant=DEFAULT_TENANT,\n",
    "        database=DEFAULT_DATABASE,\n",
    "    )\n",
    "    \n",
    "    # Lade die entsprechende Collection\n",
    "    collection = client.get_collection(name=collection_name)\n",
    "    \n",
    "    # Erstelle die Embeddings für die Abfrage\n",
    "    query_embeddings = create_query_embeddings(query).tolist()\n",
    "    \n",
    "    # Führe die Abfrage in der Collection durch und suche die ähnlichsten Dokumente\n",
    "    results = collection.query(query_embeddings=query_embeddings, n_results=top_k)\n",
    "    \n",
    "    # Überprüfe den Aufbau des Ergebnisses und gib die Dokumente aus\n",
    "    if 'documents' in results and 'metadatas' in results and 'distances' in results:\n",
    "        for i, (document, metadata, distance) in enumerate(zip(results['documents'][0], results['metadatas'][0], results['distances'][0])):\n",
    "            similarity_score = 1 / (1 + distance)  # Berechnung des Ähnlichkeitsscores\n",
    "            print(\"Ähnlichkeitsscore:\", similarity_score)\n",
    "            print(f\"Dokument {i+1}:\")\n",
    "            print(\"Inhalt:\", document)\n",
    "            print(\"Metadaten:\", metadata)\n",
    "\n",
    "            print()\n",
    "    else:\n",
    "        print(\"Keine ähnlichen Dokumente gefunden.\")\n",
    "        \n",
    "    return results\n",
    "\n",
    "# Beispielaufruf der Funktion\n",
    "# query = \"Wie entsorge ich mein Altglas?\"\n",
    "# query = \"Wie lautet die Telefonummer der FES?\"\n",
    "query = \"Wo entsorge ich meine Plastikverpackungen?\"\n",
    "\n",
    "collection_name='document_embeddings_v10'\n",
    "persist_directory='chroma_db_v4'\n",
    "rag_results = get_similar_documents_from_chroma(collection_name, persist_directory, query)"
   ]
  },
  {
   "cell_type": "code",
   "execution_count": 4,
   "metadata": {},
   "outputs": [
    {
     "data": {
      "text/html": [
       "\n",
       "    <div style=\"border: 1px solid black; padding: 10px; margin: 10px; max-height: 300px; overflow-y: auto;\">\n",
       "        <h3>Ähnlichkeits Score: 0.7550992051784692</h3>\n",
       "        <h3>Inhalt Chunk:</h3>\n",
       "        <p style=\"white-space: pre-wrap; color: green;\">Geschäumte Kunststoffe, z. B. Obst- und Gemüseverpackungen\n",
       "\n",
       "Das kommt nicht hinein:\n",
       "\n",
       "Verpackungen aus Papier und Pappe (Altpapiertonne)\n",
       "\n",
       "Verpackungen aus Glas (Altglascontainer)\n",
       "\n",
       "Stark verschmutzte Fast-Food-Verpackungen wie Pizzakartons (Restmüll)\n",
       "\n",
       "Hinweis: Ist zu viel Restmüll in der gelben Tonne, können die Wertstoffe nicht mehr aussortiert und weiterverarbeitet werden.\n",
       "\n",
       "Standort: Am Wohnhaus\n",
       "Leerung: 14-täglich\n",
       "\n",
       "Die grüne Altpapiertonne\n",
       "\n",
       "Das kommt hinein:</p>\n",
       "        <h3>Metadaten: </h3>\n",
       "        <p style=\"white-space: pre-wrap; color: yellow;\">{'source': 'data/md_cleaned/was_kommt_wo_hinein_de.md'}</p>\n",
       "    </div>\n",
       "    "
      ],
      "text/plain": [
       "<IPython.core.display.HTML object>"
      ]
     },
     "metadata": {},
     "output_type": "display_data"
    },
    {
     "data": {
      "text/html": [
       "\n",
       "    <div style=\"border: 1px solid black; padding: 10px; margin: 10px; max-height: 300px; overflow-y: auto;\">\n",
       "        <h3>Ähnlichkeits Score: 0.7531164559257947</h3>\n",
       "        <h3>Inhalt Chunk:</h3>\n",
       "        <p style=\"white-space: pre-wrap; color: green;\">Darüber hinaus gibt es folgende Entsorgungsangebote:\n",
       "\n",
       "Altglas:\n",
       "Altglascontainer für Flaschen und Deckelgläser finden Sie an öffentlichen Plätzen.\n",
       "\n",
       "Altkleider:\n",
       "Container für Altkleider und Schuhe finden Sie in jedem Stadtteil auf öffentlichen Plätzen sowie auf den FES-Wertstoffhöfen.</p>\n",
       "        <h3>Metadaten: </h3>\n",
       "        <p style=\"white-space: pre-wrap; color: yellow;\">{'source': 'data/md_cleaned/was_kommt_wo_hinein_de.md'}</p>\n",
       "    </div>\n",
       "    "
      ],
      "text/plain": [
       "<IPython.core.display.HTML object>"
      ]
     },
     "metadata": {},
     "output_type": "display_data"
    },
    {
     "data": {
      "text/html": [
       "\n",
       "    <div style=\"border: 1px solid black; padding: 10px; margin: 10px; max-height: 300px; overflow-y: auto;\">\n",
       "        <h3>Ähnlichkeits Score: 0.7493447007394172</h3>\n",
       "        <h3>Inhalt Chunk:</h3>\n",
       "        <p style=\"white-space: pre-wrap; color: green;\">Rohe und gekochte Speise- und Lebensmittelreste\n",
       "\n",
       "Kaffee- und Teesatz, Filtertüten, Eierschalen\n",
       "\n",
       "Grünschnitt und Laub\n",
       "\n",
       "Das kommt nicht hinein:\n",
       "\n",
       "Plastiktüten, Verpackungen aus Kunststoff und Metall (gelbe Verpackungstonne)\n",
       "\n",
       "Kehricht und Staubsaugerbeutel (Restmüll)\n",
       "\n",
       "Zigarettenkippen (Restmüll)\n",
       "\n",
       "Windeln und andere gebrauchte Hygieneartikel (Restmüll)\n",
       "\n",
       "Standort: Am Wohnhaus\n",
       "Leerung: 14-täglich\n",
       "\n",
       "Die graue Restmülltonne\n",
       "\n",
       "Das kommt hinein:</p>\n",
       "        <h3>Metadaten: </h3>\n",
       "        <p style=\"white-space: pre-wrap; color: yellow;\">{'source': 'data/md_cleaned/was_kommt_wo_hinein_de.md'}</p>\n",
       "    </div>\n",
       "    "
      ],
      "text/plain": [
       "<IPython.core.display.HTML object>"
      ]
     },
     "metadata": {},
     "output_type": "display_data"
    }
   ],
   "source": [
    "from IPython.display import display, HTML\n",
    "\n",
    "def print_corrections(original, corrected, emb):\n",
    "    display(HTML(f\"\"\"\n",
    "    <div style=\"border: 1px solid black; padding: 10px; margin: 10px; max-height: 300px; overflow-y: auto;\">\n",
    "        <h3>Ähnlichkeits Score: {original}</h3>\n",
    "        <h3>Inhalt Chunk:</h3>\n",
    "        <p style=\"white-space: pre-wrap; color: green;\">{corrected}</p>\n",
    "        <h3>Metadaten: </h3>\n",
    "        <p style=\"white-space: pre-wrap; color: yellow;\">{emb}</p>\n",
    "    </div>\n",
    "    \"\"\"))\n",
    "    \n",
    "# Aufruf der Funktion für jedes Dokument\n",
    "\n",
    "    \n",
    "# for document in docs_with_embeddings:\n",
    "#     print_corrections({document['metadata']['source']}, document['page_content'], document['embeddings'])\n",
    "\n",
    "for i, (document, metadata, distance) in enumerate(zip(rag_results['documents'][0], rag_results['metadatas'][0], rag_results['distances'][0])):\n",
    "    similarity_score = 1 / (1 + distance)  # Berechnung des Ähnlichkeitsscores\n",
    "    # print(\"Ähnlichkeitsscore:\", similarity_score)\n",
    "    # print(f\"Dokument {i+1}:\")\n",
    "    # print(\"Inhalt:\", document)\n",
    "    # print(\"Metadaten:\", metadata)\n",
    "    \n",
    "    print_corrections(similarity_score, document, metadata)\n"
   ]
  },
  {
   "cell_type": "code",
   "execution_count": 16,
   "metadata": {},
   "outputs": [
    {
     "name": "stdout",
     "output_type": "stream",
     "text": [
      "Basierend auf dem bereitgestellten Kontext ist die Telefonnummer der FES Frankfurter Entsorgungs- und Service GmbH 0800 2008007-0.\n"
     ]
    }
   ],
   "source": [
    "# Initialisiere die Modelle\n",
    "mistral_model, llama_model = initialize_models()\n",
    "\n",
    "def create_context_for_llm():\n",
    "\n",
    "    filter_context = \"\"\n",
    "    # Überprüfe den Aufbau des Ergebnisses und gib die Dokumente aus\n",
    "    if 'documents' in rag_results:\n",
    "        for i, document in enumerate(rag_results['documents'][0]):\n",
    "            # print(f\"Dokument {i+1}:\")\n",
    "            # print(\"Inhalt:\", document)\n",
    "            # print()\n",
    "            filter_context += f\"Dokument {i+1}:\\n\"\n",
    "            filter_context += f\"Inhalt: {document}\\n\\n\"\n",
    "    else:\n",
    "        print(\"Keine ähnlichen Dokumente gefunden.\")\n",
    "        \n",
    "    return filter_context\n",
    "    \n",
    "filter_context = create_context_for_llm()\n",
    "# print(filter_context)\n",
    "response_llm = ask_llm_with_ollama(query, filter_context, mistral_model)\n",
    "print(response_llm)"
   ]
  },
  {
   "cell_type": "code",
   "execution_count": null,
   "metadata": {},
   "outputs": [],
   "source": [
    "from IPython.display import display, HTML\n",
    "\n",
    "def print_corrections(query, response):\n",
    "    display(HTML(f\"\"\"\n",
    "    <div style=\"border: 1px solid black; padding: 10px; margin: 10px; max-height: 300px; overflow-y: auto;\">\n",
    "        <h3>Frage</h3>\n",
    "        <p style=\"white-space: pre-wrap; color: white;\">{query}</p>\n",
    "        <h3>Antwort des LLMs: </h3>\n",
    "        <p style=\"white-space: pre-wrap; color: green;\">{response}</p>\n",
    "    </div>\n",
    "    \"\"\"))\n",
    "\n",
    "print_corrections(query, response_llm)\n"
   ]
  },
  {
   "cell_type": "code",
   "execution_count": 19,
   "metadata": {},
   "outputs": [
    {
     "data": {
      "text/html": [
       "\n",
       "    <div style=\"border: 1px solid black; padding: 10px; margin: 10px; max-height: 300px; overflow-y: auto;\">\n",
       "        <h3>Frage</h3>\n",
       "        <p style=\"white-space: pre-wrap; color: white;\">Wie lautet die Telefonummer der FES?</p>\n",
       "        <h3>Antwort Mistral: </h3>\n",
       "        <p style=\"white-space: pre-wrap; color: green;\">Die Telefonnummer der FES Frankfurter Entsorgungs- und Service GmbH ist 0800 2008007-0.</p>\n",
       "        <h3>Antwort Llama: </h3>\n",
       "        <p style=\"white-space: pre-wrap; color: yellow;\">Nachdem ich mich durch den bereitgestellten Kontext gearbeitet habe, stelle ich fest, dass in Dokument 2 unter der Rubrik \"FES Frankfurter Entsorgungs- und Service GmbH\" die Telefonnummer der FES angegeben ist. Diese lautet:\n",
       "\n",
       "0800 2008007-0\n",
       "\n",
       "Die Nummer ist auch im Impressum des Dokuments aufgeführt. Die -0 am Ende ist wahrscheinlich eine spezifische Anschlussnummer innerhalb des Hauptfondes, aber die allgemeine Telefonnummer der FES wird als \"0800 2008007\" angegeben.\n",
       "\n",
       "Die Telefonnummer für die Sperrmüllabholung und andere Serviceangebote ist etwas anders: 0800 2008007-10 (wie in Dokument 1 genannt).\n",
       "\n",
       "Ich hoffe, diese Antwort entspricht deinen Erwartungen!</p>\n",
       "    </div>\n",
       "    "
      ],
      "text/plain": [
       "<IPython.core.display.HTML object>"
      ]
     },
     "metadata": {},
     "output_type": "display_data"
    }
   ],
   "source": [
    "# Initialisiere die Modelle\n",
    "mistral_model, llama_model = initialize_models()\n",
    "\n",
    "response_llm_mistal = ask_llm_with_ollama(query, filter_context, mistral_model)\n",
    "response_llm_llama = ask_llm_with_ollama(query, filter_context, llama_model)\n",
    "\n",
    "from IPython.display import display, HTML\n",
    "\n",
    "def print_corrections(query, response_mistral, response_llama):\n",
    "    display(HTML(f\"\"\"\n",
    "    <div style=\"border: 1px solid black; padding: 10px; margin: 10px; max-height: 300px; overflow-y: auto;\">\n",
    "        <h3>Frage</h3>\n",
    "        <p style=\"white-space: pre-wrap; color: white;\">{query}</p>\n",
    "        <h3>Antwort Mistral: </h3>\n",
    "        <p style=\"white-space: pre-wrap; color: green;\">{response_mistral}</p>\n",
    "        <h3>Antwort Llama: </h3>\n",
    "        <p style=\"white-space: pre-wrap; color: yellow;\">{response_llama}</p>\n",
    "    </div>\n",
    "    \"\"\"))\n",
    "\n",
    "print_corrections(query, response_llm_mistal, response_llm_llama)"
   ]
  }
 ],
 "metadata": {
  "kernelspec": {
   "display_name": "predictiv_chatbot",
   "language": "python",
   "name": "python3"
  },
  "language_info": {
   "codemirror_mode": {
    "name": "ipython",
    "version": 3
   },
   "file_extension": ".py",
   "mimetype": "text/x-python",
   "name": "python",
   "nbconvert_exporter": "python",
   "pygments_lexer": "ipython3",
   "version": "3.12.3"
  }
 },
 "nbformat": 4,
 "nbformat_minor": 2
}
